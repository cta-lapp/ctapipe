{
 "cells": [
  {
   "cell_type": "code",
   "execution_count": 4,
   "metadata": {},
   "outputs": [],
   "source": [
    "from ctapipe.io import event_source\n",
    "from ctapipe.calib import CameraCalibrator\n",
    "from ctapipe.utils import get_dataset\n",
    "from ctapipe.image import tailcuts_clean\n",
    "from ctapipe.reco import HillasReconstructor\n",
    "from ctapipe.image import hillas_parameters\n",
    "from ctapipe.reco.HillasReconstructor import TooFewTelescopesException\n",
    "import hipecta.memory\n",
    "import hipecta.calib\n",
    "import astropy.units as u\n",
    "import numpy as np\n",
    "import copy"
   ]
  },
  {
   "cell_type": "code",
   "execution_count": 5,
   "metadata": {},
   "outputs": [],
   "source": [
    "import warnings\n",
    "warnings.filterwarnings('ignore')"
   ]
  },
  {
   "cell_type": "code",
   "execution_count": 6,
   "metadata": {},
   "outputs": [],
   "source": [
    "filename = get_dataset(\"gamma_test.simtel.gz\")"
   ]
  },
  {
   "cell_type": "code",
   "execution_count": 7,
   "metadata": {},
   "outputs": [],
   "source": [
    "events = [copy.deepcopy(event) for event in event_source(filename)]"
   ]
  },
  {
   "cell_type": "code",
   "execution_count": 8,
   "metadata": {},
   "outputs": [],
   "source": [
    "cal = CameraCalibrator(None, None, r1_product='HESSIOR1Calibrator', extractor_product='NeighbourPeakIntegrator')"
   ]
  },
  {
   "cell_type": "code",
   "execution_count": 9,
   "metadata": {},
   "outputs": [],
   "source": [
    "hillas_reco = HillasReconstructor()"
   ]
  },
  {
   "cell_type": "code",
   "execution_count": 10,
   "metadata": {},
   "outputs": [],
   "source": [
    "class HillasNotFinite(Exception):\n",
    "    \"\"\"\n",
    "    Error to be raised when hillas parameters are not finite\n",
    "    \"\"\"\n",
    "    pass"
   ]
  },
  {
   "cell_type": "code",
   "execution_count": 11,
   "metadata": {},
   "outputs": [],
   "source": [
    "def reconstruction(event, picture_thresh=6, boundary_thresh=0):\n",
    "    \n",
    "    cal.calibrate(event)\n",
    "    \n",
    "    features = {}\n",
    "    hillas_dict = {}\n",
    "    pointing_azimuth = {}\n",
    "    pointing_altitude = {}\n",
    "    for telescope_id, dl1 in event.dl1.tel.items():\n",
    "\n",
    "        camera = event.inst.subarray.tels[telescope_id].camera\n",
    "        mask = tailcuts_clean(camera,\n",
    "                              dl1.image[0], \n",
    "                              boundary_thresh=boundary_thresh, \n",
    "                              picture_thresh=picture_thresh)\n",
    "        \n",
    "        telescope_type_name = event.inst.subarray.tels[telescope_id].optics.tel_type\n",
    "        image = dl1.image[0]\n",
    "        image[~mask] = 0\n",
    "\n",
    "        if image.sum() > 0:\n",
    "            try:\n",
    "                h = hillas_parameters(\n",
    "                    camera,\n",
    "                    image\n",
    "                )\n",
    "\n",
    "                if not all(map(np.isfinite, h.values())):\n",
    "                    raise HillasNotFinite(\"bad Hillas parameters\")\n",
    "                    \n",
    "                hillas_dict[telescope_id] = h\n",
    "                pointing_azimuth[telescope_id] = event.mc.tel[telescope_id].azimuth_raw * u.rad\n",
    "                pointing_altitude[telescope_id] = event.mc.tel[telescope_id].altitude_raw * u.rad\n",
    "                # pointing_altitude[telescope_id] = ((np.pi/2) - event.mc.tel[telescope_id].altitude_raw )* u.rad # this is weird to say the least. \n",
    "    \n",
    "            except HillasNotFinite:\n",
    "                pass\n",
    "                \n",
    "        else:\n",
    "            print(\"image sum < 0\", image.sum())\n",
    "\n",
    "    if len(hillas_dict) < 2:\n",
    "        print(\"mono\")\n",
    "        # raise TooFewTelescopesException()\n",
    "        reco = None\n",
    "    else:\n",
    "        reco = hillas_reco.predict(hillas_dict, event.inst, pointing_azimuth, pointing_altitude)\n",
    "   \n",
    "    return reco\n"
   ]
  },
  {
   "cell_type": "code",
   "execution_count": 12,
   "metadata": {},
   "outputs": [],
   "source": [
    "def process_events(filename):\n",
    "    events = [copy.deepcopy(event) for event in event_source(filename)]\n",
    "    print(len(events))\n",
    "    reco = []\n",
    "    for i, event in enumerate(events):\n",
    "        print(i)\n",
    "        reco.append(reconstruction(event))\n",
    "    return reco"
   ]
  },
  {
   "cell_type": "code",
   "execution_count": 13,
   "metadata": {
    "scrolled": true
   },
   "outputs": [
    {
     "name": "stderr",
     "output_type": "stream",
     "text": [
      "WARNING:ctapipe.io.hessioeventsource.HESSIOEventSource:Only one pyhessio event_source allowed at a time. Previous hessio file will be closed.\n"
     ]
    },
    {
     "name": "stdout",
     "output_type": "stream",
     "text": [
      "9\n",
      "0\n",
      "1\n",
      "2\n",
      "3\n",
      "4\n",
      "5\n",
      "6\n",
      "7\n",
      "8\n",
      "image sum < 0 0.0\n"
     ]
    }
   ],
   "source": [
    "reco = process_events(filename);"
   ]
  },
  {
   "cell_type": "code",
   "execution_count": 15,
   "metadata": {},
   "outputs": [
    {
     "name": "stdout",
     "output_type": "stream",
     "text": [
      "408\n",
      "1.22173rad 6.28319rad\n",
      "0.00710163rad 4.34482rad\n",
      "-----\n",
      "409\n",
      "1.22173rad 6.28319rad\n",
      "0.0260324rad 4.3533rad\n",
      "-----\n",
      "803\n",
      "1.22173rad 6.28319rad\n",
      "0.00161457rad 4.36529rad\n",
      "-----\n",
      "4907\n",
      "1.22173rad 6.28319rad\n",
      "0.0193678rad 1.22404rad\n",
      "-----\n",
      "9508\n",
      "1.22173rad 6.28319rad\n",
      "0.0172549rad 1.20392rad\n",
      "-----\n",
      "10104\n",
      "1.22173rad 6.28319rad\n",
      "0.00232797rad 1.20654rad\n",
      "-----\n",
      "10109\n",
      "1.22173rad 6.28319rad\n",
      "0.00397331rad 4.35761rad\n",
      "-----\n",
      "11905\n",
      "1.22173rad 6.28319rad\n",
      "0.00123515rad 1.2216rad\n",
      "-----\n",
      "12202\n",
      "1.22173rad 6.28319rad\n",
      "0.0211464rad 1.24256rad\n",
      "-----\n"
     ]
    }
   ],
   "source": [
    "for r, event in zip(reco, events):\n",
    "    print(event.r0.event_id)\n",
    "    print(event.mc.alt, event.mc.az)\n",
    "    print(r.alt, r.az)\n",
    "    print('-----')"
   ]
  },
  {
   "cell_type": "code",
   "execution_count": null,
   "metadata": {},
   "outputs": [],
   "source": []
  }
 ],
 "metadata": {
  "kernelspec": {
   "display_name": "Python 3",
   "language": "python",
   "name": "python3"
  },
  "language_info": {
   "codemirror_mode": {
    "name": "ipython",
    "version": 3
   },
   "file_extension": ".py",
   "mimetype": "text/x-python",
   "name": "python",
   "nbconvert_exporter": "python",
   "pygments_lexer": "ipython3",
   "version": "3.5.4"
  }
 },
 "nbformat": 4,
 "nbformat_minor": 2
}
