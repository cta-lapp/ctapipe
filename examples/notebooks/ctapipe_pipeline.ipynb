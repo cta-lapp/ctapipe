{
 "cells": [
  {
   "cell_type": "code",
   "execution_count": 1,
   "metadata": {},
   "outputs": [],
   "source": [
    "from ctapipe.io import event_source\n",
    "from ctapipe.calib import CameraCalibrator\n",
    "from ctapipe.utils import get_dataset\n",
    "from ctapipe.image import tailcuts_clean\n",
    "from ctapipe.reco import HillasReconstructor\n",
    "from ctapipe.image import hillas_parameters\n",
    "from ctapipe.reco.HillasReconstructor import TooFewTelescopesException\n",
    "import hipecta.memory\n",
    "import hipecta.calib\n",
    "import astropy.units as u\n",
    "import numpy as np\n",
    "import copy"
   ]
  },
  {
   "cell_type": "code",
   "execution_count": 2,
   "metadata": {},
   "outputs": [],
   "source": [
    "import warnings\n",
    "warnings.filterwarnings('ignore')"
   ]
  },
  {
   "cell_type": "code",
   "execution_count": 3,
   "metadata": {},
   "outputs": [],
   "source": [
    "filename = get_dataset(\"gamma_test.simtel.gz\")"
   ]
  },
  {
   "cell_type": "code",
   "execution_count": 4,
   "metadata": {},
   "outputs": [],
   "source": [
    "events = [copy.deepcopy(event) for event in event_source(filename)]"
   ]
  },
  {
   "cell_type": "code",
   "execution_count": 5,
   "metadata": {},
   "outputs": [],
   "source": [
    "cal = CameraCalibrator(None, None, r1_product='HESSIOR1Calibrator', extractor_product='NeighbourPeakIntegrator')"
   ]
  },
  {
   "cell_type": "code",
   "execution_count": 6,
   "metadata": {},
   "outputs": [],
   "source": [
    "hillas_reco = HillasReconstructor()"
   ]
  },
  {
   "cell_type": "code",
   "execution_count": 7,
   "metadata": {},
   "outputs": [],
   "source": [
    "class HillasNotFinite(Exception):\n",
    "    \"\"\"\n",
    "    Error to be raised when hillas parameters are not finite\n",
    "    \"\"\"\n",
    "    pass"
   ]
  },
  {
   "cell_type": "code",
   "execution_count": 21,
   "metadata": {},
   "outputs": [],
   "source": [
    "def reconstruction(event, picture_thresh=10, boundary_thresh=5):\n",
    "    \n",
    "    cal.calibrate(event)\n",
    "    \n",
    "    features = {}\n",
    "    hillas_dict = {}\n",
    "    pointing_azimuth = {}\n",
    "    pointing_altitude = {}\n",
    "    for telescope_id, dl1 in event.dl1.tel.items():\n",
    "\n",
    "        camera = event.inst.subarray.tels[telescope_id].camera\n",
    "        mask = tailcuts_clean(camera,\n",
    "                              dl1.image[0], \n",
    "                              boundary_thresh=boundary_thresh, \n",
    "                              picture_thresh=picture_thresh)\n",
    "        \n",
    "        telescope_type_name = event.inst.subarray.tels[telescope_id].optics.tel_type\n",
    "        image = dl1.image[0]\n",
    "        image[~mask] = 0\n",
    "\n",
    "        if image.sum() > 0:\n",
    "            try:\n",
    "                h = hillas_parameters(\n",
    "                    camera,\n",
    "                    image\n",
    "                )\n",
    "\n",
    "                if not all(map(np.isfinite, h.values())):\n",
    "                    raise HillasNotFinite(\"bad Hillas parameters\")\n",
    "                    \n",
    "                hillas_dict[telescope_id] = h\n",
    "                pointing_azimuth[telescope_id] = event.mc.tel[telescope_id].azimuth_raw * u.rad\n",
    "                pointing_altitude[telescope_id] = event.mc.tel[telescope_id].altitude_raw * u.rad\n",
    "                # pointing_altitude[telescope_id] = ((np.pi/2) - event.mc.tel[telescope_id].altitude_raw )* u.rad # this is weird to say the least. \n",
    "    \n",
    "            except HillasNotFinite:\n",
    "                pass\n",
    "                \n",
    "        else:\n",
    "            print(\"image sum < 0\", image.sum())\n",
    "\n",
    "    if len(hillas_dict) < 2:\n",
    "        print(\"mono\")\n",
    "        # raise TooFewTelescopesException()\n",
    "        reco = None\n",
    "    else:\n",
    "        reco = hillas_reco.predict(hillas_dict, event.inst, pointing_azimuth, pointing_altitude)\n",
    "   \n",
    "    return reco\n"
   ]
  },
  {
   "cell_type": "code",
   "execution_count": 22,
   "metadata": {},
   "outputs": [],
   "source": [
    "def process_events(filename):\n",
    "    events = [copy.deepcopy(event) for event in event_source(filename)]\n",
    "    print(len(events))\n",
    "    reco = []\n",
    "    for i, event in enumerate(events):\n",
    "        print(i)\n",
    "        reco.append(reconstruction(event))\n",
    "    return reco"
   ]
  },
  {
   "cell_type": "code",
   "execution_count": 23,
   "metadata": {
    "scrolled": true
   },
   "outputs": [
    {
     "name": "stderr",
     "output_type": "stream",
     "text": [
      "WARNING:ctapipe.io.hessioeventsource.HESSIOEventSource:Only one pyhessio event_source allowed at a time. Previous hessio file will be closed.\n"
     ]
    },
    {
     "name": "stdout",
     "output_type": "stream",
     "text": [
      "9\n",
      "0\n",
      "image sum < 0 0.0\n",
      "image sum < 0 0.0\n",
      "mono\n",
      "1\n",
      "image sum < 0 0.0\n",
      "2\n",
      "image sum < 0 0.0\n",
      "3\n",
      "4\n",
      "5\n",
      "6\n",
      "7\n",
      "8\n",
      "image sum < 0 0.0\n",
      "image sum < 0 0.0\n",
      "image sum < 0 0.0\n"
     ]
    }
   ],
   "source": [
    "reco = process_events(filename);"
   ]
  },
  {
   "cell_type": "code",
   "execution_count": 27,
   "metadata": {},
   "outputs": [
    {
     "data": {
      "text/latex": [
       "$0.0171409\\mathrm{rad}$"
      ],
      "text/plain": [
       "<Latitude 0.01714089 rad>"
      ]
     },
     "execution_count": 27,
     "metadata": {},
     "output_type": "execute_result"
    }
   ],
   "source": [
    "reco[4].alt"
   ]
  },
  {
   "cell_type": "code",
   "execution_count": 29,
   "metadata": {},
   "outputs": [
    {
     "name": "stdout",
     "output_type": "stream",
     "text": [
      "408\n",
      "1.22173rad 6.28319rad\n",
      "None\n",
      "-----\n",
      "409\n",
      "1.22173rad 6.28319rad\n",
      "{'alt': <Latitude nan rad>,\n",
      " 'alt_uncert': <Quantity nan rad>,\n",
      " 'average_size': 207.62513161665413,\n",
      " 'az': <Longitude nan rad>,\n",
      " 'az_uncert': nan,\n",
      " 'core_uncert': [nan, nan],\n",
      " 'core_x': nan,\n",
      " 'core_y': nan,\n",
      " 'goodness_of_fit': nan,\n",
      " 'h_max': <Quantity 10000. m>,\n",
      " 'h_max_uncert': nan,\n",
      " 'is_valid': True,\n",
      " 'tel_ids': [21, 119, 24, 26, 11, 63]}\n",
      "-----\n",
      "803\n",
      "1.22173rad 6.28319rad\n",
      "{'alt': <Latitude nan rad>,\n",
      " 'alt_uncert': <Quantity nan rad>,\n",
      " 'average_size': 43.8573701448595,\n",
      " 'az': <Longitude nan rad>,\n",
      " 'az_uncert': nan,\n",
      " 'core_uncert': [nan, nan],\n",
      " 'core_x': nan,\n",
      " 'core_y': nan,\n",
      " 'goodness_of_fit': nan,\n",
      " 'h_max': <Quantity 10000. m>,\n",
      " 'h_max_uncert': nan,\n",
      " 'is_valid': True,\n",
      " 'tel_ids': [17, 124]}\n",
      "-----\n",
      "4907\n",
      "1.22173rad 6.28319rad\n",
      "{'alt': <Latitude 0.0060795 rad>,\n",
      " 'alt_uncert': <Quantity 0.59974088 rad>,\n",
      " 'average_size': 52.10743741736368,\n",
      " 'az': <Longitude 1.21962609 rad>,\n",
      " 'az_uncert': nan,\n",
      " 'core_uncert': <Quantity 0.02883571 m>,\n",
      " 'core_x': <Quantity -4189.88420979 m>,\n",
      " 'core_y': <Quantity -10843.55319048 m>,\n",
      " 'goodness_of_fit': nan,\n",
      " 'h_max': <Quantity 12.80386337 m>,\n",
      " 'h_max_uncert': nan,\n",
      " 'is_valid': True,\n",
      " 'tel_ids': [1, 2, 19, 4, 17, 14, 15]}\n",
      "-----\n",
      "9508\n",
      "1.22173rad 6.28319rad\n",
      "{'alt': <Latitude 0.01714089 rad>,\n",
      " 'alt_uncert': <Quantity 1.24090157 rad>,\n",
      " 'average_size': 119.3996316814691,\n",
      " 'az': <Longitude 1.20372529 rad>,\n",
      " 'az_uncert': nan,\n",
      " 'core_uncert': <Quantity 1.79235535 m>,\n",
      " 'core_x': <Quantity 4202.7922353 m>,\n",
      " 'core_y': <Quantity 11720.51476783 m>,\n",
      " 'goodness_of_fit': nan,\n",
      " 'h_max': <Quantity -46.51610435 m>,\n",
      " 'h_max_uncert': nan,\n",
      " 'is_valid': True,\n",
      " 'tel_ids': [12, 2, 3, 4, 10]}\n",
      "-----\n",
      "10104\n",
      "1.22173rad 6.28319rad\n",
      "{'alt': <Latitude 0.0052617 rad>,\n",
      " 'alt_uncert': <Quantity 0. rad>,\n",
      " 'average_size': 54.1351870798065,\n",
      " 'az': <Longitude 4.37634593 rad>,\n",
      " 'az_uncert': nan,\n",
      " 'core_uncert': <Quantity 5.88574714e-13 m>,\n",
      " 'core_x': <Quantity 1573.16221042 m>,\n",
      " 'core_y': <Quantity 3633.8125007 m>,\n",
      " 'goodness_of_fit': nan,\n",
      " 'h_max': <Quantity 10.24226839 m>,\n",
      " 'h_max_uncert': nan,\n",
      " 'is_valid': True,\n",
      " 'tel_ids': [8, 16]}\n",
      "-----\n",
      "10109\n",
      "1.22173rad 6.28319rad\n",
      "{'alt': <Latitude 0.01028733 rad>,\n",
      " 'alt_uncert': <Quantity 0. rad>,\n",
      " 'average_size': 64.24094003505432,\n",
      " 'az': <Longitude 4.36205976 rad>,\n",
      " 'az_uncert': nan,\n",
      " 'core_uncert': <Quantity 3.34593812e-13 m>,\n",
      " 'core_x': <Quantity 2557.12592731 m>,\n",
      " 'core_y': <Quantity 6338.97025627 m>,\n",
      " 'goodness_of_fit': nan,\n",
      " 'h_max': <Quantity -66.1994862 m>,\n",
      " 'h_max_uncert': nan,\n",
      " 'is_valid': True,\n",
      " 'tel_ids': [26, 28]}\n",
      "-----\n",
      "11905\n",
      "1.22173rad 6.28319rad\n",
      "{'alt': <Latitude 0.00555176 rad>,\n",
      " 'alt_uncert': <Quantity 1.05103195 rad>,\n",
      " 'average_size': 67.1851352585819,\n",
      " 'az': <Longitude 1.23326821 rad>,\n",
      " 'az_uncert': nan,\n",
      " 'core_uncert': <Quantity 0.7945175 m>,\n",
      " 'core_x': <Quantity 598.33161544 m>,\n",
      " 'core_y': <Quantity 1582.07516012 m>,\n",
      " 'goodness_of_fit': nan,\n",
      " 'h_max': <Quantity -8.27268203 m>,\n",
      " 'h_max_uncert': nan,\n",
      " 'is_valid': True,\n",
      " 'tel_ids': [1, 3, 4]}\n",
      "-----\n",
      "12202\n",
      "1.22173rad 6.28319rad\n",
      "{'alt': <Latitude 0.01895059 rad>,\n",
      " 'alt_uncert': <Quantity 0.84589638 rad>,\n",
      " 'average_size': 98.90040878920978,\n",
      " 'az': <Longitude 1.21791346 rad>,\n",
      " 'az_uncert': nan,\n",
      " 'core_uncert': <Quantity 31.7504479 m>,\n",
      " 'core_x': <Quantity -1346.7259314 m>,\n",
      " 'core_y': <Quantity -2429.76203703 m>,\n",
      " 'goodness_of_fit': nan,\n",
      " 'h_max': <Quantity -68.59266587 m>,\n",
      " 'h_max_uncert': nan,\n",
      " 'is_valid': True,\n",
      " 'tel_ids': [62, 9, 25, 12, 110, 126]}\n",
      "-----\n"
     ]
    }
   ],
   "source": [
    "for r, event in zip(reco, events):\n",
    "    print(event.r0.event_id)\n",
    "    print(event.mc.alt, event.mc.az)\n",
    "    print(r)\n",
    "    print('-----')"
   ]
  },
  {
   "cell_type": "code",
   "execution_count": null,
   "metadata": {},
   "outputs": [],
   "source": []
  }
 ],
 "metadata": {
  "kernelspec": {
   "display_name": "Python 3",
   "language": "python",
   "name": "python3"
  },
  "language_info": {
   "codemirror_mode": {
    "name": "ipython",
    "version": 3
   },
   "file_extension": ".py",
   "mimetype": "text/x-python",
   "name": "python",
   "nbconvert_exporter": "python",
   "pygments_lexer": "ipython3",
   "version": "3.5.4"
  }
 },
 "nbformat": 4,
 "nbformat_minor": 2
}
